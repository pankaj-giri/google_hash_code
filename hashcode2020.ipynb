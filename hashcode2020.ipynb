{
 "cells": [
  {
   "cell_type": "markdown",
   "metadata": {},
   "source": [
    "# HashCode 2020 Qualifier\n",
    "Problem : https://storage.googleapis.com/coding-competitions.appspot.com/HC/2020/hashcode_2020_online_qualification_round.pdf\n",
    "\n",
    "Data : https://storage.googleapis.com/coding-competitions.appspot.com/HC/2020/qualification_round_2020.in.zip\n"
   ]
  },
  {
   "cell_type": "code",
   "execution_count": 1,
   "metadata": {},
   "outputs": [],
   "source": [
    "def parse(data):\n",
    "    '''\n",
    "    Parse the file to create a meta dictionary.\n",
    "    \n",
    "    Input: A list with each item representing a line from input file\n",
    "    returns: A dictionary of parsed values\n",
    "    '''\n",
    "    info = dict()\n",
    "    line1 = data[0].split()\n",
    "    no_of_books, no_of_lib, no_of_days = int(line1[0]), int(line1[1]), int(line1[2])\n",
    "    book_scores = [int(i) for i in data[1].split()]\n",
    "    info['no_of_books'] = no_of_books\n",
    "    info['no_of_lib'] = no_of_lib\n",
    "    info['no_of_days'] = no_of_days\n",
    "    info['book_scores'] = book_scores\n",
    "    \n",
    "    data = data[2:]\n",
    "    for i in range(no_of_lib):\n",
    "        data_lib = data[i*2 : i*2+2]\n",
    "        info[f'lib_id_{i}'] = __parse_lib__(data_lib, i)\n",
    "\n",
    "    return info\n",
    "        \n",
    "def __parse_lib__(data, id_):\n",
    "    lib = dict()\n",
    "    t = data[0].split()\n",
    "    lib['id'] = id_\n",
    "    lib['no_of_books'], lib['signup_time'], lib['can_ship'] = int(t[0]), int(t[1]), int(t[2])\n",
    "    lib['books'] = [int(i) for i in data[1].split()]\n",
    "    return lib"
   ]
  },
  {
   "cell_type": "code",
   "execution_count": 85,
   "metadata": {},
   "outputs": [],
   "source": [
    "with open('files/e_so_many_books.txt', 'rb') as f:\n",
    "    lines = f.readlines()\n",
    "\n",
    "data = []\n",
    "for line in lines:\n",
    "    data.append(line.decode('utf-8').strip())\n",
    "    \n",
    "info = parse(data)"
   ]
  },
  {
   "cell_type": "code",
   "execution_count": 86,
   "metadata": {},
   "outputs": [],
   "source": [
    "# Sort the libraries by their signup time in descending order\n",
    "\n",
    "# Figure out the order in which the books are to be shipped out - constraint is to have the scores maximized\n",
    "    # you could sort the books in the order of the scores\n",
    "    # mind you that other libraries may have sent the same book ids, so you'll have to send out the ones that havent yet been sent out, but have the highest scores"
   ]
  },
  {
   "cell_type": "code",
   "execution_count": 87,
   "metadata": {},
   "outputs": [],
   "source": [
    "def sort_lib_by_signup_time(invert=False):\n",
    "    sorted_list_of_lib = []\n",
    "    for key in info.keys():\n",
    "        if 'lib_id' in key:\n",
    "            sorted_list_of_lib.append(info[key])\n",
    "    sorted_list_of_lib = sorted(sorted_list_of_lib, key=lambda x:x['signup_time'], reverse=invert)\n",
    "    return sorted_list_of_lib\n",
    "\n",
    "def get_scores_dict():\n",
    "    keys = []\n",
    "    values = []\n",
    "    for i, j in enumerate(info['book_scores']):\n",
    "        keys.append(i)\n",
    "        values.append(j)\n",
    "    return dict(zip(keys, values))"
   ]
  },
  {
   "cell_type": "markdown",
   "metadata": {},
   "source": [
    "# Constraint maximization strategy\n",
    "\n",
    "For each library ->\n",
    "\n",
    "```no_of_scan_days = no_of_days - signup_time``` (Signup time of all the other libraries already considered)\n",
    "\n",
    "```total_no_books_from_a_lib = no_of_scan_days * can_ship```\n",
    "\n",
    "Now it becomes a game of combination\n",
    "Get all combination of ```total_no_books_from_a_lib``` from each library\n",
    "Choose the combination that gives the best score\n",
    "\n",
    "How do you consider which libraries to choose to sign up, as picking up a library at the expense of dropping others may not maximize the scores?\n",
    "Knapsack problem like algorithm, where you consider a library for inclusion if remaining_days-its_signup_time "
   ]
  },
  {
   "cell_type": "markdown",
   "metadata": {},
   "source": [
    "# Reference code Knapsack\n",
    "def knapsack(values, weights, rem_capacity, n):\n",
    "    if rem_capacity == 0 or n == 0:\n",
    "        return 0\n",
    "    else:\n",
    "        if rem_capacity >= weights[n-1]:\n",
    "            output = max((values[n-1]+knapsack(values, weights, rem_capacity-weights[n-1], n-1)), \n",
    "                         knapsack(values, weights, rem_capacity, n-1))\n",
    "        else:\n",
    "            output = knapsack(values, weights, rem_capacity, n-1)\n",
    "        \n",
    "        return output\n",
    "\n",
    "\n",
    "weights =  [1, 3, 5, 7]\n",
    "values = [100, 80, 40, 30]\n",
    "capacity = 8\n",
    "knapsack(values, weights, capacity, len(weights))\n",
    "\n",
    "capacity = 11\n",
    "weights = [1, 2, 5, 6, 7]\n",
    "values = [1, 6, 18, 22, 28]\n",
    "knapsack(values, weights, capacity, len(weights))"
   ]
  },
  {
   "cell_type": "markdown",
   "metadata": {},
   "source": [
    "### Using Naive Scoring strategy - use descending order of scores from each library in the order of their signup times and sum the scores"
   ]
  },
  {
   "cell_type": "code",
   "execution_count": 95,
   "metadata": {},
   "outputs": [
    {
     "name": "stdout",
     "output_type": "stream",
     "text": [
      "198 4\n",
      "13 2\n",
      "2 42\n",
      "341 126\n",
      "233 75\n",
      "221 21\n",
      "175 56\n",
      "49 30\n",
      "70 7\n",
      "766 220\n",
      "595 87\n",
      "566 270\n",
      "316 226\n",
      "31 264\n",
      "127 246\n",
      "446 228\n",
      "409 222\n",
      "628 24\n",
      "261 155\n",
      "470 180\n",
      "666 174\n",
      "865 164\n",
      "41 73\n",
      "434 144\n",
      "284 130\n",
      "353 122\n",
      "742 102\n",
      "996 96\n",
      "861 84\n",
      "677 70\n",
      "226 56\n",
      "697 38\n",
      "402 24\n",
      "374 10\n",
      "837 4\n",
      "388 2\n"
     ]
    }
   ],
   "source": [
    "# sorted_list_of_lib = sort_lib_by_signup_time()\n",
    "days = info['no_of_days']\n",
    "scores_dict = get_scores_dict()\n",
    "\n",
    "# Debugging purposes\n",
    "books_sent = set()\n",
    "\n",
    "lib_counter = 0\n",
    "for lib in sorted_list_of_lib:\n",
    "    while days - lib['signup_time'] > 0:\n",
    "        days -= lib['signup_time']\n",
    "#         print(f\"Lib {lib['id']}, Days Remaining : {days}\")\n",
    "        can_ship = lib['can_ship']\n",
    "        scan_days = lib['no_of_books']/can_ship # TODO : Account for fractional values\n",
    "        if days >= scan_days:\n",
    "            # All books in this library can be scanned and order doesnt matter\n",
    "            print(str(lib['id'])+ ' '+str(len(lib['books'])))\n",
    "            #print(*lib['books'])\n",
    "            \n",
    "            # For score tracking\n",
    "            for book in lib['books']:\n",
    "                books_sent.add(book)\n",
    "            # Break out after processing a library TODO : Revisit this piece of junk\n",
    "\n",
    "            lib_counter += 1\n",
    "            break            \n",
    "        else:\n",
    "            # Send the books by the order of the scores - higher ones first\n",
    "            book_scores_tuple = [(book, scores_dict[book]) for book in lib['books']]\n",
    "            book_scores_tuple = sorted(book_scores_tuple, key=lambda x:x[1], reverse=True)\n",
    "#             print(f'days : {days}, can_ship: {can_ship}')\n",
    "            no_of_books_sent_for_scanning = days*can_ship\n",
    "            if lib['no_of_books'] < no_of_books_sent_for_scanning:\n",
    "                no_of_books_sent_for_scanning = lib['no_of_books']\n",
    "            print(str(lib['id'])+ ' '+str(no_of_books_sent_for_scanning))\n",
    "            for i in range(no_of_books_sent_for_scanning):\n",
    "                books_sent.add(book_scores_tuple[i][0])\n",
    "            #print(*[str(book_scores_tuple[i][0]) for i in range(no_of_books_sent_for_scanning)])\n",
    "\n",
    "            lib_counter += 1\n",
    "            break            \n",
    "#         print(f'scan_days : {scan_days}')"
   ]
  },
  {
   "cell_type": "code",
   "execution_count": 96,
   "metadata": {},
   "outputs": [
    {
     "data": {
      "text/plain": [
       "636075"
      ]
     },
     "execution_count": 96,
     "metadata": {},
     "output_type": "execute_result"
    }
   ],
   "source": [
    "sum([scores_dict[id] for id in books_sent])"
   ]
  },
  {
   "cell_type": "code",
   "execution_count": 98,
   "metadata": {},
   "outputs": [
    {
     "data": {
      "text/plain": [
       "36"
      ]
     },
     "execution_count": 98,
     "metadata": {},
     "output_type": "execute_result"
    }
   ],
   "source": [
    "lib_counter"
   ]
  },
  {
   "cell_type": "markdown",
   "metadata": {},
   "source": [
    "# Method 2 - sorting the libraries by their best scores"
   ]
  },
  {
   "cell_type": "code",
   "execution_count": 93,
   "metadata": {},
   "outputs": [],
   "source": [
    "def sort_lib_by_best_scores(invert=True):\n",
    "    sorted_list_of_lib = []\n",
    "    for key in info.keys():\n",
    "        if 'lib_id' in key:\n",
    "            sorted_list_of_lib.append(info[key])\n",
    "            # Uses a heuristic that the score should be high, with a lower number of books and the number that can ship per day should be high.\n",
    "            info[key]['score'] = sum([scores_dict[i] for i in info[key]['books']])\n",
    "            info[key]['score'] = (info[key]['score']*info[key]['can_ship'])/len(info[key]['books'])\n",
    "    sorted_list_of_lib = sorted(sorted_list_of_lib, key=lambda x:x['score'], reverse=invert)\n",
    "    return sorted_list_of_lib"
   ]
  },
  {
   "cell_type": "code",
   "execution_count": 94,
   "metadata": {},
   "outputs": [],
   "source": [
    "sorted_list_of_lib = sort_lib_by_best_scores()"
   ]
  },
  {
   "cell_type": "code",
   "execution_count": 66,
   "metadata": {},
   "outputs": [
    {
     "data": {
      "text/plain": [
       "9999800.0"
      ]
     },
     "execution_count": 66,
     "metadata": {},
     "output_type": "execute_result"
    }
   ],
   "source": [
    "sorted_list_of_lib[0]['score']"
   ]
  }
 ],
 "metadata": {
  "kernelspec": {
   "display_name": "Python 3",
   "language": "python",
   "name": "python3"
  },
  "language_info": {
   "codemirror_mode": {
    "name": "ipython",
    "version": 3
   },
   "file_extension": ".py",
   "mimetype": "text/x-python",
   "name": "python",
   "nbconvert_exporter": "python",
   "pygments_lexer": "ipython3",
   "version": "3.8.5"
  }
 },
 "nbformat": 4,
 "nbformat_minor": 4
}
